{
 "cells": [
  {
   "cell_type": "markdown",
   "metadata": {},
   "source": [
    "# Ejercicio 1: Uso de ciclos while en Python\n",
    "Comienza agregando dos variables, una para la entrada del usuario, con el nombre new_planet, y otra variable para la lista de planetas, denominada planets"
   ]
  },
  {
   "cell_type": "code",
   "execution_count": 11,
   "metadata": {},
   "outputs": [],
   "source": [
    "new_planet = ''\n",
    "plantes=[]"
   ]
  },
  {
   "cell_type": "markdown",
   "metadata": {},
   "source": [
    "Crea un ciclo while"
   ]
  },
  {
   "cell_type": "code",
   "execution_count": 12,
   "metadata": {},
   "outputs": [
    {
     "name": "stdout",
     "output_type": "stream",
     "text": [
      "['Kamino', 'Geonosis', 'Tattoine']\n"
     ]
    }
   ],
   "source": [
    "while new_planet != 'done':\n",
    "    if new_planet:\n",
    "        plantes.append(new_planet)\n",
    "    new_planet=input(\"Digite su planeta\")\n",
    "print(plantes)"
   ]
  },
  {
   "cell_type": "markdown",
   "metadata": {},
   "source": [
    "# Ejercicio 2: Creación de un ciclo \"for\"\n",
    "Ejercicio: - Ciclo para una lista\n",
    "En el ejercicio anterior, creaste código para solicitar a los usuarios que introduzcan una lista de nombres de planetas. En este ejercicio, completarás la aplicación escribiendo código que muestre los nombres de esos planetas.\n",
    "# Mostrar la lista de los planetas"
   ]
  },
  {
   "cell_type": "code",
   "execution_count": 13,
   "metadata": {},
   "outputs": [
    {
     "name": "stdout",
     "output_type": "stream",
     "text": [
      "['Kamino', 'Geonosis', 'Tattoine']\n",
      "['Kamino', 'Geonosis', 'Tattoine']\n",
      "['Kamino', 'Geonosis', 'Tattoine']\n"
     ]
    }
   ],
   "source": [
    "for numero in plantes:\n",
    "    print (plantes)"
   ]
  }
 ],
 "metadata": {
  "interpreter": {
   "hash": "8868a51a2868b05c809f27a80ff0e406fe97c7818956058d44de696499c265e6"
  },
  "kernelspec": {
   "display_name": "Python 3.10.2 64-bit",
   "language": "python",
   "name": "python3"
  },
  "language_info": {
   "codemirror_mode": {
    "name": "ipython",
    "version": 3
   },
   "file_extension": ".py",
   "mimetype": "text/x-python",
   "name": "python",
   "nbconvert_exporter": "python",
   "pygments_lexer": "ipython3",
   "version": "3.10.2"
  },
  "orig_nbformat": 4
 },
 "nbformat": 4,
 "nbformat_minor": 2
}
