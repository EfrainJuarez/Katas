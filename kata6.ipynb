{
 "cells": [
  {
   "cell_type": "markdown",
   "metadata": {},
   "source": [
    "# Ejercicio1: Crear y usar listas de Python"
   ]
  },
  {
   "cell_type": "code",
   "execution_count": 3,
   "metadata": {},
   "outputs": [
    {
     "name": "stdout",
     "output_type": "stream",
     "text": [
      "['Mercurio', 'Venuz', 'Tierra', 'Marte', 'Jupiter', 'Saturno', 'Urano', 'Neptuno']\n"
     ]
    }
   ],
   "source": [
    "Planetas=['Mercurio','Venuz',\"Tierra\",'Marte','Jupiter','Saturno','Urano','Neptuno']\n",
    "print (Planetas)"
   ]
  },
  {
   "cell_type": "code",
   "execution_count": 4,
   "metadata": {},
   "outputs": [
    {
     "name": "stdout",
     "output_type": "stream",
     "text": [
      "El numero de planetas es: 9\n",
      "el ultimo planeta es Pluton\n"
     ]
    }
   ],
   "source": [
    "Planetas.append('Pluton')\n",
    "numero=len(Planetas)\n",
    "print(f\"El numero de planetas es: {numero}\")\n",
    "print (f\"el ultimo planeta es {Planetas[-1]}\")"
   ]
  },
  {
   "cell_type": "markdown",
   "metadata": {},
   "source": [
    "# Ejercicio 2: Trabajando con datos de una lista"
   ]
  },
  {
   "cell_type": "code",
   "execution_count": 7,
   "metadata": {},
   "outputs": [
    {
     "name": "stdout",
     "output_type": "stream",
     "text": [
      "Los planetas mas cercanos al sol son ['Mercurio', 'Venuz', 'Tierra']\n",
      "Los planetas mas lejanos al sol son ['Jupiter', 'Saturno', 'Urano']\n"
     ]
    }
   ],
   "source": [
    "Planetas=['Mercurio','Venuz',\"Tierra\",'Marte','Jupiter','Saturno','Urano','Neptuno']\n",
    "planetausuario=input(\"Digite el nombre de un planeta a buscar, recuerde respetar las mayusculas\")\n",
    "planetascercanos=Planetas[0:Planetas.index(planetausuario)]\n",
    "planetaslejanos=Planetas[(Planetas.index(planetausuario))+1:-1]\n",
    "print (f\"Los planetas mas cercanos al sol son {planetascercanos}\")\n",
    "print (f\"Los planetas mas lejanos al sol son {planetaslejanos}\")"
   ]
  }
 ],
 "metadata": {
  "interpreter": {
   "hash": "8868a51a2868b05c809f27a80ff0e406fe97c7818956058d44de696499c265e6"
  },
  "kernelspec": {
   "display_name": "Python 3.10.2 64-bit",
   "language": "python",
   "name": "python3"
  },
  "language_info": {
   "codemirror_mode": {
    "name": "ipython",
    "version": 3
   },
   "file_extension": ".py",
   "mimetype": "text/x-python",
   "name": "python",
   "nbconvert_exporter": "python",
   "pygments_lexer": "ipython3",
   "version": "3.10.2"
  },
  "orig_nbformat": 4
 },
 "nbformat": 4,
 "nbformat_minor": 2
}
