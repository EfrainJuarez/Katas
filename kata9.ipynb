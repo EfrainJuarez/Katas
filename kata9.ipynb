{
 "cells": [
  {
   "cell_type": "markdown",
   "metadata": {},
   "source": [
    "# Ejercicio: Uso de funciones en Python\n",
    "Ejercicio 1: Trabajar con argumentos en funciones\n",
    "\n",
    "Comienza por crear una función que necesite tres lecturas de combustible y devuelva un informe"
   ]
  },
  {
   "cell_type": "code",
   "execution_count": 11,
   "metadata": {},
   "outputs": [
    {
     "name": "stdout",
     "output_type": "stream",
     "text": [
      "El promedio de los tanque es 3.6666666666666665\n",
      "Tanque principal 4\n",
      "Tanque secundario3\n",
      "Tanque numero 34\n"
     ]
    }
   ],
   "source": [
    "def Lecturacombustible(tanque1,tanque2, tanque3):\n",
    "    informe=(tanque1+tanque2+tanque3)/3\n",
    "    return f\"\"\"El promedio de los tanque es {informe}\n",
    "Tanque principal {tanque1}\n",
    "Tanque secundario{tanque2}\n",
    "Tanque numero 3{tanque3}\"\"\"\n",
    "   \n",
    "\n",
    "print(Lecturacombustible(4,3,4))"
   ]
  },
  {
   "cell_type": "code",
   "execution_count": 10,
   "metadata": {},
   "outputs": [
    {
     "name": "stdout",
     "output_type": "stream",
     "text": [
      "El promedio de los tanque es3.6666666666666665\n",
      "Tanque principal 4\n",
      "Tanque secundario3\n",
      "Tanque numero 34\n"
     ]
    }
   ],
   "source": [
    "def promedio(valor):\n",
    "    total= sum(valor)\n",
    "    cantidad=len(valor)\n",
    "    return total/cantidad\n",
    "\n",
    "def lecturacombustible(tanque1,tanque2, tanque3):\n",
    "    return f\"\"\"El promedio de los tanque es{promedio([tanque1, tanque2, tanque3])}\n",
    "Tanque principal {tanque1}\n",
    "Tanque secundario{tanque2}\n",
    "Tanque numero 3{tanque3}\"\"\"\n",
    "print(lecturacombustible(4,3,4))"
   ]
  },
  {
   "cell_type": "markdown",
   "metadata": {},
   "source": [
    "# Ejercicio 2: Trabajo con argumentos de palabra clave\n",
    "Ejercicio : Trabajar con argumentos de palabras clave en funciones"
   ]
  },
  {
   "cell_type": "code",
   "execution_count": 13,
   "metadata": {},
   "outputs": [
    {
     "name": "stdout",
     "output_type": "stream",
     "text": [
      "\n",
      "    Mision para la Luna\n",
      "    Tiempo total de vuelo: 65 minutos\n",
      "    Combustible restante: 500000 galones\n",
      "    \n"
     ]
    }
   ],
   "source": [
    "def reportesolucion(tiempopre,tiempovuelo, destino, tanqueex, tanqueprin):\n",
    "    return f\"\"\"\n",
    "    Mision para {destino}\n",
    "    Tiempo total de vuelo: {tiempopre + tiempovuelo} minutos\n",
    "    Combustible restante: {tanqueex + tanqueprin} galones\n",
    "    \"\"\"\n",
    "\n",
    "print(reportesolucion(14, 51, \"la Luna\", 200000, 300000))"
   ]
  },
  {
   "cell_type": "code",
   "execution_count": null,
   "metadata": {},
   "outputs": [],
   "source": [
    "def reporte(destino, *minutos, **combustibleres):\n",
    "    return f\"\"\"\n",
    "    Mision para {destino}\n",
    "    Tiempo total de vuelo: {sum(minutos)} minutos\n",
    "    Combustible restante: {sum(combustibleres.values())}\n",
    "    \"\"\"\n",
    "\n",
    "print(reporte(\"la Luna\", 10, 15, 51, main=300000, external=200000))"
   ]
  },
  {
   "cell_type": "code",
   "execution_count": 16,
   "metadata": {},
   "outputs": [
    {
     "name": "stdout",
     "output_type": "stream",
     "text": [
      "\n",
      "    Mision para Moon\n",
      "    Tiempo total de vuelo: 74 minutos\n",
      "    Combustible restante: 500000\n",
      "    tanque -->principal tiene 300000 galones restantes\n",
      "tanque -->externo tiene 200000 galones restantes\n",
      "\n"
     ]
    }
   ],
   "source": [
    "\n",
    "def reporte2(destino, *minutos, **combustibleres):\n",
    "    main_report = f\"\"\"\n",
    "    Mision para {destino}\n",
    "    Tiempo total de vuelo: {sum(minutos)} minutos\n",
    "    Combustible restante: {sum(combustibleres.values())}\n",
    "    \"\"\"\n",
    "    for nombretanque, galones in combustibleres.items():\n",
    "        main_report += f\"tanque -->{nombretanque} tiene {galones} galones restantes\\n\"\n",
    "    return main_report\n",
    "\n",
    "print(reporte2(\"Moon\", 8, 11, 55, principal =300000, externo=200000))"
   ]
  }
 ],
 "metadata": {
  "interpreter": {
   "hash": "8868a51a2868b05c809f27a80ff0e406fe97c7818956058d44de696499c265e6"
  },
  "kernelspec": {
   "display_name": "Python 3.10.2 64-bit",
   "language": "python",
   "name": "python3"
  },
  "language_info": {
   "codemirror_mode": {
    "name": "ipython",
    "version": 3
   },
   "file_extension": ".py",
   "mimetype": "text/x-python",
   "name": "python",
   "nbconvert_exporter": "python",
   "pygments_lexer": "ipython3",
   "version": "3.10.2"
  },
  "orig_nbformat": 4
 },
 "nbformat": 4,
 "nbformat_minor": 2
}
