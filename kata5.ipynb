{
 "cells": [
  {
   "cell_type": "markdown",
   "metadata": {},
   "source": [
    "# Ejercicio1 - Utilizar operadores aritméticos"
   ]
  },
  {
   "cell_type": "code",
   "execution_count": 3,
   "metadata": {},
   "outputs": [
    {
     "name": "stdout",
     "output_type": "stream",
     "text": [
      "La distancia es 628949330 km\n",
      "La distancia es 390577533.93 millas\n"
     ]
    }
   ],
   "source": [
    "Tierra=149597870\n",
    "Jupiter=778547200\n",
    "\n",
    "distancia= Jupiter-Tierra\n",
    "print (f\"La distancia es {distancia} km\")\n",
    "print (f\"La distancia es {distancia*0.621} millas\")"
   ]
  },
  {
   "cell_type": "markdown",
   "metadata": {},
   "source": [
    "# Ejercicio 2: convierte cadenas en números y usa valores absolutos"
   ]
  },
  {
   "cell_type": "code",
   "execution_count": 7,
   "metadata": {},
   "outputs": [
    {
     "name": "stdout",
     "output_type": "stream",
     "text": [
      "78300000\n",
      "El resultado en millas es 48624300.0\n"
     ]
    }
   ],
   "source": [
    "soltierra=input(\"Inserte la distancia del planeta 1\")\n",
    "solmarte=input (\"Inserte la distancia del planeta 2\")\n",
    "\n",
    "distancia1=int(soltierra)\n",
    "distancia2=int(solmarte)\n",
    "\n",
    "res=(distancia2-distancia1)\n",
    "millas= res*0.621\n",
    "print(abs(res))\n",
    "print(f\"El resultado en millas es {millas}\")"
   ]
  }
 ],
 "metadata": {
  "interpreter": {
   "hash": "8868a51a2868b05c809f27a80ff0e406fe97c7818956058d44de696499c265e6"
  },
  "kernelspec": {
   "display_name": "Python 3.10.2 64-bit",
   "language": "python",
   "name": "python3"
  },
  "language_info": {
   "codemirror_mode": {
    "name": "ipython",
    "version": 3
   },
   "file_extension": ".py",
   "mimetype": "text/x-python",
   "name": "python",
   "nbconvert_exporter": "python",
   "pygments_lexer": "ipython3",
   "version": "3.10.2"
  },
  "orig_nbformat": 4
 },
 "nbformat": 4,
 "nbformat_minor": 2
}
