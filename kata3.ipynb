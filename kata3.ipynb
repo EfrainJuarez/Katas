{
 "cells": [
  {
   "cell_type": "markdown",
   "metadata": {},
   "source": [
    "# Ejercicio - Escribir declaraciones if, else, y elif"
   ]
  },
  {
   "cell_type": "code",
   "execution_count": 5,
   "metadata": {},
   "outputs": [
    {
     "name": "stdout",
     "output_type": "stream",
     "text": [
      "Un asteroide se acerca, y viaja a una velocidad de 49 km/s.\n"
     ]
    }
   ],
   "source": [
    "AsteroideDetectadp=49\n",
    "VelocidadAdvertencia=25\n",
    "\n",
    "if AsteroideDetectadp>VelocidadAdvertencia:\n",
    "    print(\"Un asteroide se acerca, y viaja a una velocidad de 49 km/s.\")\n",
    "else:\n",
    "    print(\"Todo bien, todo correcto\")\n"
   ]
  },
  {
   "cell_type": "code",
   "execution_count": 6,
   "metadata": {},
   "outputs": [
    {
     "name": "stdout",
     "output_type": "stream",
     "text": [
      "Todo bien, todo correcto\n"
     ]
    }
   ],
   "source": [
    "Asteroide=19\n",
    "if Asteroide>20:\n",
    "    print (\"Mira hacia arriba, hay un asteroide\")\n",
    "elif Asteroide==20:\n",
    "    print (\"Mira hacia arriba, hay un asteroide\")\n",
    "else:\n",
    "    print (\"Todo bien, todo correcto\")"
   ]
  },
  {
   "cell_type": "markdown",
   "metadata": {},
   "source": [
    "# Ejercicio: Uso de operadores and y or"
   ]
  },
  {
   "cell_type": "code",
   "execution_count": 10,
   "metadata": {},
   "outputs": [
    {
     "name": "stdout",
     "output_type": "stream",
     "text": [
      "Mira hacia arriba, hay un asteroide\n"
     ]
    }
   ],
   "source": [
    "VelocidadAsteroide=21\n",
    "TamañoAsteroide=40\n",
    "\n",
    "if (VelocidadAsteroide>25 and TamañoAsteroide>25):\n",
    "    print (\"Significa peligrooo\")\n",
    "elif VelocidadAsteroide>=20:\n",
    "    print (\"Mira hacia arriba, hay un asteroide\")\n",
    "elif TamañoAsteroide<25:\n",
    "    print (\"Asteroide desintegrado\")\n",
    "else:\n",
    "    print (\"Todo bien, todo correcto\")"
   ]
  }
 ],
 "metadata": {
  "interpreter": {
   "hash": "8868a51a2868b05c809f27a80ff0e406fe97c7818956058d44de696499c265e6"
  },
  "kernelspec": {
   "display_name": "Python 3.10.2 64-bit",
   "language": "python",
   "name": "python3"
  },
  "language_info": {
   "codemirror_mode": {
    "name": "ipython",
    "version": 3
   },
   "file_extension": ".py",
   "mimetype": "text/x-python",
   "name": "python",
   "nbconvert_exporter": "python",
   "pygments_lexer": "ipython3",
   "version": "3.10.2"
  },
  "orig_nbformat": 4
 },
 "nbformat": 4,
 "nbformat_minor": 2
}
