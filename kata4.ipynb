{
 "cells": [
  {
   "cell_type": "markdown",
   "metadata": {},
   "source": [
    "# Ejercicio 1: Transformar cadenas"
   ]
  },
  {
   "cell_type": "code",
   "execution_count": 46,
   "metadata": {},
   "outputs": [
    {
     "name": "stdout",
     "output_type": "stream",
     "text": [
      " On average, the Moon moves 4cm away from the Earth every year\n",
      " The highest daylight temperature of the Moon is 127 C\n",
      " On average, the Moon moves 4cm away from the Earth every year\n",
      " The highest daylight temperature of the Moon is 127 Celsius\n"
     ]
    }
   ],
   "source": [
    "text = \"\"\"Interesting facts about the Moon. The Moon is Earth's only satellite. There are several interesting facts about the Moon and how it affects life here on Earth. On average, the Moon moves 4cm away from the Earth every year. This yearly drift is not significant enough to cause immediate effects on Earth. The highest daylight temperature of the Moon is 127 C.\"\"\"\n",
    "\n",
    "lista=text.split('.')\n",
    "palabrasclave=[\"average\",\"temperature\",\"distance\"]\n",
    "for i in lista:\n",
    "    for x in palabrasclave:\n",
    "        if x in i:\n",
    "            print (i)\n",
    "            break\n",
    "for i in lista:\n",
    "    for x in palabrasclave:\n",
    "        if x in i:\n",
    "            print (i.replace('C','Celsius'))\n",
    "            break\n",
    "\n"
   ]
  },
  {
   "cell_type": "markdown",
   "metadata": {},
   "source": [
    "# Ejercicio 2: Formateando Cadenas"
   ]
  },
  {
   "cell_type": "code",
   "execution_count": 47,
   "metadata": {},
   "outputs": [
    {
     "name": "stdout",
     "output_type": "stream",
     "text": [
      "datos de la gravedad sobre La luna\n"
     ]
    }
   ],
   "source": [
    "nombre = \"La luna\"\n",
    "gravedad = 0.00162 # in kms\n",
    "planeta = \"Earth\"\n",
    "\n",
    "titulo=f'datos de la gravedad sobre {nombre}'\n",
    "print (titulo)"
   ]
  },
  {
   "cell_type": "code",
   "execution_count": 48,
   "metadata": {},
   "outputs": [
    {
     "name": "stdout",
     "output_type": "stream",
     "text": [
      "nombre del planeta: Earth\n",
      "Gravedad en La luna es de: 1.6199999999999999 m/s\n",
      "\n",
      "\n"
     ]
    }
   ],
   "source": [
    "datos=f\"\"\"nombre del planeta: {planeta}\n",
    "Gravedad en {nombre} es de: {gravedad*1000} m/s\n",
    "\n",
    "\"\"\"\n",
    "print (datos)"
   ]
  },
  {
   "cell_type": "code",
   "execution_count": 49,
   "metadata": {},
   "outputs": [],
   "source": [
    "union=f\"\"\"{titulo.title()}\n",
    "{datos}\"\"\"\n"
   ]
  },
  {
   "cell_type": "code",
   "execution_count": 50,
   "metadata": {},
   "outputs": [],
   "source": [
    "planeta = 'Marte '\n",
    "gravedad  = 0.00143\n",
    "nombre = 'Ganímedes'"
   ]
  },
  {
   "cell_type": "code",
   "execution_count": 51,
   "metadata": {},
   "outputs": [
    {
     "name": "stdout",
     "output_type": "stream",
     "text": [
      "Datos De La Gravedad Sobre La Luna\n",
      "nombre del planeta: Earth\n",
      "Gravedad en La luna es de: 1.6199999999999999 m/s\n",
      "\n",
      "\n"
     ]
    }
   ],
   "source": [
    "print (union)"
   ]
  },
  {
   "cell_type": "code",
   "execution_count": 52,
   "metadata": {},
   "outputs": [
    {
     "name": "stdout",
     "output_type": "stream",
     "text": [
      "\n",
      "Datos de Gravedad sobre: Ganímedes\n",
      "-------------------------------------------------------------------------------\n",
      "Nombre del planeta: Marte \n",
      "Gravedad en Ganímedes: 1000.00143 m/s2\n",
      "\n"
     ]
    }
   ],
   "source": [
    "nuevo = \"\"\"\n",
    "Datos de Gravedad sobre: {nombre}\n",
    "-------------------------------------------------------------------------------\n",
    "Nombre del planeta: {planeta}\n",
    "Gravedad en {nombre}: {gravedad} m/s2\n",
    "\"\"\"\n",
    "print(nuevo.format(nombre=nombre, planeta=planeta, gravedad=gravedad+1000))"
   ]
  }
 ],
 "metadata": {
  "interpreter": {
   "hash": "8868a51a2868b05c809f27a80ff0e406fe97c7818956058d44de696499c265e6"
  },
  "kernelspec": {
   "display_name": "Python 3.10.2 64-bit",
   "language": "python",
   "name": "python3"
  },
  "language_info": {
   "codemirror_mode": {
    "name": "ipython",
    "version": 3
   },
   "file_extension": ".py",
   "mimetype": "text/x-python",
   "name": "python",
   "nbconvert_exporter": "python",
   "pygments_lexer": "ipython3",
   "version": "3.10.2"
  },
  "orig_nbformat": 4
 },
 "nbformat": 4,
 "nbformat_minor": 2
}
